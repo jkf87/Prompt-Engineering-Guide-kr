{
 "cells": [
  {
   "attachments": {},
   "cell_type": "markdown",
   "metadata": {},
   "source": [
    "## LangChain과 ChatGPT\n",
    "\n",
    "이 노트북은 LangChain에서 지원되는 ChatGPT 및 관련 기능에 대한 간략한 소개를 제공합니다."
   ]
  },
  {
   "attachments": {},
   "cell_type": "markdown",
   "metadata": {},
   "source": [
    "시작하기 전에 이러한 라이브러리를 설치하세요. 이를 위한 전용 환경을 만드는 것이 가장 이상적입니다."
   ]
  },
  {
   "cell_type": "code",
   "execution_count": 1,
   "metadata": {},
   "outputs": [],
   "source": [
    "%%capture\n",
    "# update or install the necessary libraries\n",
    "!pip install --upgrade openai\n",
    "!pip install --upgrade langchain\n",
    "!pip install --upgrade python-dotenv"
   ]
  },
  {
   "cell_type": "code",
   "execution_count": 2,
   "metadata": {},
   "outputs": [
    {
     "data": {
      "text/plain": [
       "True"
      ]
     },
     "execution_count": 2,
     "metadata": {},
     "output_type": "execute_result"
    }
   ],
   "source": [
    "import openai\n",
    "import os\n",
    "import IPython\n",
    "from langchain.llms import OpenAI\n",
    "from dotenv import load_dotenv\n",
    "load_dotenv()"
   ]
  },
  {
   "attachments": {},
   "cell_type": "markdown",
   "metadata": {},
   "source": [
    "환경 변수를 로드합니다. 원하는 환경 변수는 무엇이든 사용할 수 있지만 저는 `python-dotenv`를 사용했습니다. OPENAI_API_KEY`로 `.env` 파일을 생성한 다음 다음과 같이 로드합니다:"
   ]
  },
  {
   "cell_type": "code",
   "execution_count": 3,
   "metadata": {},
   "outputs": [],
   "source": [
    "os.environ[\"OPENAI_API_KEY\"] = os.getenv(\"OPENAI_API_KEY\")"
   ]
  },
  {
   "attachments": {},
   "cell_type": "markdown",
   "metadata": {},
   "source": [
    "여기](https://langchain.readthedocs.io/en/latest/modules/chat/getting_started.html)의 코드를 적용하고 있습니다."
   ]
  },
  {
   "cell_type": "code",
   "execution_count": 4,
   "metadata": {},
   "outputs": [],
   "source": [
    "from langchain.chat_models import ChatOpenAI\n",
    "from langchain import PromptTemplate, LLMChain\n",
    "from langchain.prompts.chat import (\n",
    "    ChatPromptTemplate,\n",
    "    SystemMessagePromptTemplate,\n",
    "    AIMessagePromptTemplate,\n",
    "    HumanMessagePromptTemplate,\n",
    ")\n",
    "from langchain.schema import (\n",
    "    AIMessage,\n",
    "    HumanMessage,\n",
    "    SystemMessage\n",
    ")"
   ]
  },
  {
   "cell_type": "code",
   "execution_count": 5,
   "metadata": {},
   "outputs": [
    {
     "name": "stderr",
     "output_type": "stream",
     "text": [
      "/Users/elvissaravia/opt/miniconda3/envs/peguide/lib/python3.9/site-packages/langchain_core/_api/deprecation.py:117: LangChainDeprecationWarning: The class `langchain_community.chat_models.openai.ChatOpenAI` was deprecated in langchain-community 0.1.0 and will be removed in 0.2.0. Use langchain_openai.ChatOpenAI instead.\n",
      "  warn_deprecated(\n"
     ]
    }
   ],
   "source": [
    "# chat mode instance\n",
    "chat = ChatOpenAI(temperature=0)"
   ]
  },
  {
   "attachments": {},
   "cell_type": "markdown",
   "metadata": {},
   "source": [
    "ChatGPT는 역할에 따라 식별 가능한 다양한 유형의 메시지를 지원합니다. LangChain. 오픈아이`를 사용하여 ChatGPT에 기본 호출을 하는 방법을 기억하시나요? 다음은 그 예시입니다:\n",
    "\n",
    "```python\n",
    "MODEL = \"gpt-3.5-turbo\"\n",
    "\n",
    "응답 = openai.ChatCompletion.create(\n",
    "    model=MODEL,\n",
    "    messages=[\n",
    "        {\"role\": \"시스템\", \"콘텐츠\": \"귀하는 AI 연구 조교입니다. 기술적이고 과학적인 어조를 사용합니다.\"},\n",
    "        {\"role\": \"사용자\", \"콘텐츠\": \"안녕하세요, 누구세요?\"},\n",
    "        {\"role\": \"어시스턴트\", \"콘텐츠\": \"안녕하세요! 저는 AI 연구 조교입니다. 오늘은 무엇을 도와드릴까요?\"},\n",
    "        {\"role\": \"사용자\", \"콘텐츠\": \"블랙홀의 생성에 대해 알려주실 수 있나요?\"}\n",
    "    ],\n",
    "    temperature=0,\n",
    ")\n",
    "```\n",
    "\n",
    "LangChain은 임의의 역할 매개변수(`ChatMessage`)를 포함하여 이러한 다양한 유형의 메시지를 지원합니다. 시도해 봅시다:"
   ]
  },
  {
   "cell_type": "code",
   "execution_count": 7,
   "metadata": {},
   "outputs": [
    {
     "data": {
      "text/plain": [
       "AIMessage(content='positive')"
      ]
     },
     "execution_count": 7,
     "metadata": {},
     "output_type": "execute_result"
    }
   ],
   "source": [
    "USER_INPUT = \"I love programming.\"\n",
    "FINAL_PROMPT = \"\"\"Classify the text into neutral, negative or positive. \n",
    "\n",
    "Text: {user_input}. \n",
    "Sentiment:\"\"\"\n",
    "\n",
    "chat.invoke([HumanMessage(content=FINAL_PROMPT.format(user_input=USER_INPUT))])"
   ]
  },
  {
   "attachments": {},
   "cell_type": "markdown",
   "metadata": {},
   "source": [
    "시스템 명령과 사용자가 제공한 작업이 포함된 예제를 살펴보겠습니다."
   ]
  },
  {
   "cell_type": "code",
   "execution_count": 8,
   "metadata": {},
   "outputs": [
    {
     "data": {
      "text/plain": [
       "AIMessage(content='The sentence \"I am doing brilliant today!\" can be classified as positive sentiment.')"
      ]
     },
     "execution_count": 8,
     "metadata": {},
     "output_type": "execute_result"
    }
   ],
   "source": [
    "messages = [\n",
    "    SystemMessage(content=\"You are a helpful assistant that can classify the sentiment of input texts. The labels you can use are positive, negative and neutral.\"),\n",
    "    HumanMessage(content=\"Classify the following sentence: I am doing brilliant today!\"),\n",
    "]\n",
    "\n",
    "chat.invoke(messages)"
   ]
  },
  {
   "attachments": {},
   "cell_type": "markdown",
   "metadata": {},
   "source": [
    "이제 인간과 AI 연구 조교 간의 교환을 포함하는 다른 예를 살펴보겠습니다:"
   ]
  },
  {
   "cell_type": "code",
   "execution_count": 9,
   "metadata": {},
   "outputs": [
    {
     "data": {
      "text/plain": [
       "AIMessage(content=\"Certainly! Black holes are fascinating astronomical objects that form from the remnants of massive stars. The creation of a black hole occurs through a process known as stellar collapse.\\n\\nWhen a massive star exhausts its nuclear fuel, it can no longer sustain the outward pressure generated by nuclear fusion. As a result, the star's core collapses under the force of gravity. This collapse is triggered by the imbalance between the inward gravitational force and the outward pressure.\\n\\nDuring the collapse, the star's core becomes incredibly dense, packing an enormous amount of mass into a tiny volume. This extreme density leads to the formation of a singularity, a point of infinite density at the center of the black hole.\\n\\nSurrounding the singularity is the event horizon, which is the boundary beyond which nothing, not even light, can escape the gravitational pull of the black hole. The event horizon is determined by the mass of the black hole, with larger black holes having larger event horizons.\\n\\nThe formation of black holes is classified into three main types based on their mass: stellar black holes, intermediate-mass black holes, and supermassive black holes. Stellar black holes typically have masses several times that of our Sun, while supermassive black holes can have millions or even billions of times the mass of the Sun.\\n\\nIn addition to stellar collapse, black holes can also form through other mechanisms, such as the collision of neutron stars or the accretion of matter onto an existing black hole.\\n\\nUnderstanding the creation and behavior of black holes is a fascinating area of research in astrophysics, with implications for our understanding of gravity, spacetime, and the evolution of galaxies.\")"
      ]
     },
     "execution_count": 9,
     "metadata": {},
     "output_type": "execute_result"
    }
   ],
   "source": [
    "messages = [\n",
    "    SystemMessage(content=\"You are an AI research assistant. You use a tone that is technical and scientific.\"),\n",
    "    HumanMessage(content=\"Hello, who are you?\"),\n",
    "    AIMessage(content=\"Greeting! I am an AI research assistant. How can I help you today?\"),\n",
    "    HumanMessage(content=\"Can you tell me about the creation of black holes?\")\n",
    "]\n",
    "\n",
    "chat.invoke(messages)"
   ]
  },
  {
   "attachments": {},
   "cell_type": "markdown",
   "metadata": {},
   "source": [
    "이러한 요청을 일괄 처리하여 응답을 생성하는 기능도 있습니다(`chat.response()` 사용):"
   ]
  },
  {
   "cell_type": "code",
   "execution_count": 10,
   "metadata": {},
   "outputs": [
    {
     "data": {
      "text/plain": [
       "LLMResult(generations=[[ChatGeneration(text=\"Certainly! Black holes are fascinating astronomical objects that are formed through the gravitational collapse of massive stars. The creation of a black hole occurs when a star exhausts its nuclear fuel and can no longer sustain the outward pressure generated by nuclear fusion in its core.\\n\\nWhen a massive star reaches the end of its life, it undergoes a supernova explosion. During this explosive event, the outer layers of the star are ejected into space, while the core collapses inward due to its own gravity. If the core's mass is above a certain threshold, known as the Tolman-Oppenheimer-Volkoff (TOV) limit, the collapse continues until it forms a black hole.\\n\\nThe core collapse is an incredibly dense and energetic process. As the core collapses, its mass becomes concentrated into an extremely small volume, resulting in a gravitational field so strong that not even light can escape from it. This region of space is known as the event horizon, which defines the boundary of a black hole.\\n\\nThe formation of a black hole is governed by the principles of general relativity, a theory proposed by Albert Einstein. According to general relativity, the collapse of matter creates a singularity at the center of the black hole, where the laws of physics as we currently understand them break down.\\n\\nBlack holes come in different sizes, ranging from stellar-mass black holes, which have masses several times that of our Sun, to supermassive black holes, which can have millions or even billions of times the mass of the Sun. Supermassive black holes are thought to form through a combination of processes, including the accretion of matter and the merging of smaller black holes.\\n\\nStudying black holes is a challenging task due to their elusive nature, but advancements in observational techniques, such as gravitational wave detectors and telescopes, have provided us with valuable insights into their formation and behavior.\", generation_info={'finish_reason': 'stop', 'logprobs': None}, message=AIMessage(content=\"Certainly! Black holes are fascinating astronomical objects that are formed through the gravitational collapse of massive stars. The creation of a black hole occurs when a star exhausts its nuclear fuel and can no longer sustain the outward pressure generated by nuclear fusion in its core.\\n\\nWhen a massive star reaches the end of its life, it undergoes a supernova explosion. During this explosive event, the outer layers of the star are ejected into space, while the core collapses inward due to its own gravity. If the core's mass is above a certain threshold, known as the Tolman-Oppenheimer-Volkoff (TOV) limit, the collapse continues until it forms a black hole.\\n\\nThe core collapse is an incredibly dense and energetic process. As the core collapses, its mass becomes concentrated into an extremely small volume, resulting in a gravitational field so strong that not even light can escape from it. This region of space is known as the event horizon, which defines the boundary of a black hole.\\n\\nThe formation of a black hole is governed by the principles of general relativity, a theory proposed by Albert Einstein. According to general relativity, the collapse of matter creates a singularity at the center of the black hole, where the laws of physics as we currently understand them break down.\\n\\nBlack holes come in different sizes, ranging from stellar-mass black holes, which have masses several times that of our Sun, to supermassive black holes, which can have millions or even billions of times the mass of the Sun. Supermassive black holes are thought to form through a combination of processes, including the accretion of matter and the merging of smaller black holes.\\n\\nStudying black holes is a challenging task due to their elusive nature, but advancements in observational techniques, such as gravitational wave detectors and telescopes, have provided us with valuable insights into their formation and behavior.\"))], [ChatGeneration(text='Certainly! Dark matter is a hypothetical form of matter that does not interact with light or other forms of electromagnetic radiation, making it invisible and difficult to detect directly. Its existence is inferred from its gravitational effects on visible matter and the structure of the universe.\\n\\nThe term \"dark matter\" was coined to explain the observed discrepancies between the predicted and observed gravitational effects in galaxies and galaxy clusters. These discrepancies suggest the presence of additional mass that cannot be accounted for by visible matter, such as stars, gas, and dust.\\n\\nThe exact nature of dark matter remains unknown, but various theories propose that it could consist of new types of particles that interact weakly with ordinary matter. These particles are often referred to as Weakly Interacting Massive Particles (WIMPs). Other theories suggest that dark matter could be composed of primordial black holes or exotic particles not yet discovered.\\n\\nDespite its elusive nature, dark matter plays a crucial role in the formation and evolution of the universe. It provides the gravitational scaffolding necessary for the formation of galaxies and galaxy clusters, influencing their distribution and dynamics. However, its precise properties and interactions continue to be a subject of intense scientific investigation and experimentation.', generation_info={'finish_reason': 'stop', 'logprobs': None}, message=AIMessage(content='Certainly! Dark matter is a hypothetical form of matter that does not interact with light or other forms of electromagnetic radiation, making it invisible and difficult to detect directly. Its existence is inferred from its gravitational effects on visible matter and the structure of the universe.\\n\\nThe term \"dark matter\" was coined to explain the observed discrepancies between the predicted and observed gravitational effects in galaxies and galaxy clusters. These discrepancies suggest the presence of additional mass that cannot be accounted for by visible matter, such as stars, gas, and dust.\\n\\nThe exact nature of dark matter remains unknown, but various theories propose that it could consist of new types of particles that interact weakly with ordinary matter. These particles are often referred to as Weakly Interacting Massive Particles (WIMPs). Other theories suggest that dark matter could be composed of primordial black holes or exotic particles not yet discovered.\\n\\nDespite its elusive nature, dark matter plays a crucial role in the formation and evolution of the universe. It provides the gravitational scaffolding necessary for the formation of galaxies and galaxy clusters, influencing their distribution and dynamics. However, its precise properties and interactions continue to be a subject of intense scientific investigation and experimentation.'))]], llm_output={'token_usage': {'completion_tokens': 607, 'prompt_tokens': 136, 'total_tokens': 743}, 'model_name': 'gpt-3.5-turbo'}, run=[RunInfo(run_id=UUID('0141a9f7-21e3-4df0-bb14-3ee815902407')), RunInfo(run_id=UUID('3f8f85fa-31c7-4a8b-a6ee-a6d9ee547c53'))])"
      ]
     },
     "execution_count": 10,
     "metadata": {},
     "output_type": "execute_result"
    }
   ],
   "source": [
    "batch_messages = [\n",
    "    [\n",
    "        SystemMessage(content=\"You are an AI research assistant. You use a tone that is technical and scientific.\"),\n",
    "        HumanMessage(content=\"Hello, who are you?\"),\n",
    "        AIMessage(content=\"Greeting! I am an AI research assistant. How can I help you today?\"),\n",
    "        HumanMessage(content=\"Can you tell me about the creation of black holes?\")\n",
    "    ],\n",
    "    [\n",
    "        SystemMessage(content=\"You are an AI research assistant. You use a tone that is technical and scientific.\"),\n",
    "        HumanMessage(content=\"Hello, who are you?\"),\n",
    "        AIMessage(content=\"Greeting! I am an AI research assistant. How can I help you today?\"),\n",
    "        HumanMessage(content=\"Can you explain the dark matter?\")\n",
    "    ]\n",
    "]\n",
    "\n",
    "chat.generate(batch_messages)"
   ]
  },
  {
   "attachments": {},
   "cell_type": "markdown",
   "metadata": {},
   "source": [
    "위의 예시를 보면 프롬프트 템플릿을 사용하는 것이 더 쉬울 수 있습니다. LangChain도 지원합니다. 아래에서 시도해 보겠습니다:"
   ]
  },
  {
   "cell_type": "code",
   "execution_count": 11,
   "metadata": {},
   "outputs": [],
   "source": [
    "template = \"You are a helpful assistant that can classify the sentiment of input texts. The labels you can use are {sentiment_labels}. Classify the following sentence:\"\n",
    "system_message_prompt = SystemMessagePromptTemplate.from_template(template)\n",
    "human_template = \"{user_input}\"\n",
    "human_message_prompt = HumanMessagePromptTemplate.from_template(human_template)"
   ]
  },
  {
   "cell_type": "code",
   "execution_count": 12,
   "metadata": {},
   "outputs": [
    {
     "data": {
      "text/plain": [
       "AIMessage(content='positive')"
      ]
     },
     "execution_count": 12,
     "metadata": {},
     "output_type": "execute_result"
    }
   ],
   "source": [
    "chat_prompt = ChatPromptTemplate.from_messages([system_message_prompt, human_message_prompt])\n",
    "\n",
    "\n",
    "chat.invoke(chat_prompt.format_prompt(sentiment_labels=\"positive, negative, and neutral\", user_input=\"I am doing brilliant today!\").to_messages())"
   ]
  },
  {
   "cell_type": "code",
   "execution_count": 13,
   "metadata": {},
   "outputs": [
    {
     "data": {
      "text/plain": [
       "AIMessage(content='neutral')"
      ]
     },
     "execution_count": 13,
     "metadata": {},
     "output_type": "execute_result"
    }
   ],
   "source": [
    "chat.invoke(chat_prompt.format_prompt(sentiment_labels=\"positive, negative, and neutral\", user_input=\"Not sure what the weather is like today.\").to_messages())"
   ]
  }
 ],
 "metadata": {
  "kernelspec": {
   "display_name": "promptlecture",
   "language": "python",
   "name": "python3"
  },
  "language_info": {
   "codemirror_mode": {
    "name": "ipython",
    "version": 3
   },
   "file_extension": ".py",
   "mimetype": "text/x-python",
   "name": "python",
   "nbconvert_exporter": "python",
   "pygments_lexer": "ipython3",
   "version": "3.9.18"
  },
  "vscode": {
   "interpreter": {
    "hash": "f38e0373277d6f71ee44ee8fea5f1d408ad6999fda15d538a69a99a1665a839d"
   }
  }
 },
 "nbformat": 4,
 "nbformat_minor": 2
}
